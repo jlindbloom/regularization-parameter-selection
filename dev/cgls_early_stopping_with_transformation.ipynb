{
 "cells": [
  {
   "cell_type": "code",
   "execution_count": 1,
   "metadata": {},
   "outputs": [],
   "source": [
    "import numpy as np\n",
    "import matplotlib.pyplot as plt"
   ]
  },
  {
   "cell_type": "code",
   "execution_count": null,
   "metadata": {},
   "outputs": [],
   "source": [
    "def cgls_early_stopping_regularization_with_invertible_transformation(A, R, b, noise_sigma, maxits=100, tau=1.03, early_stopping=True):\n",
    "    \"\"\"Performs CGLS with early stopping regularization applied to minimizing\n",
    "                || A x - b ||_2 ,\n",
    "    stopping at the first iteration such that\n",
    "        || A x - b ||_2^2 <= tau * m * noise_var.\n",
    "    We assume that R is a given invertible square matrix.\n",
    "    \"\"\"\n",
    "\n",
    "    n = A.shape[1]\n",
    "    m = A.shape[0]\n",
    "    x = np.zeros(n)\n",
    "    r_prev = b - (A @ x)\n",
    "    d_prev = A.T @ r_prev\n",
    "\n",
    "    # Tracking\n",
    "    squared_residuals = []\n",
    "    squared_res = np.linalg.norm((A @ x) - b)**2\n",
    "    squared_residuals.append(squared_res)\n",
    "    n_iterations = 0\n",
    "\n",
    "    for k in range(maxits):\n",
    "\n",
    "        # CGLS iteration\n",
    "        alpha = (np.linalg.norm(A.T @ r_prev)**2)/(np.linalg.norm(A @ d_prev)**2)\n",
    "        x = x + alpha*d_prev\n",
    "        r_next = r_prev - alpha*(A @ d_prev)\n",
    "        beta = (np.linalg.norm(A.T @ r_next)**2/(np.linalg.norm(A.T @ r_prev)**2))\n",
    "        d_next = (A.T @ r_next) + beta*d_prev\n",
    "\n",
    "        d_prev = d_next\n",
    "        r_prev = r_next\n",
    "\n",
    "        # Track this\n",
    "        n_iterations += 1\n",
    "        squared_res = np.linalg.norm((A @ x) - b)**2\n",
    "        squared_residuals.append(squared_res)\n",
    "\n",
    "        if early_stopping and (squared_res < tau*(m*(noise_sigma**2))):\n",
    "            break\n",
    "\n",
    "    data = {\n",
    "        \"x\": x,\n",
    "        \"n_iterations\": n_iterations,\n",
    "        \"squared_residuals\": squared_residuals,\n",
    "    }\n",
    "\n",
    "    return data"
   ]
  },
  {
   "cell_type": "code",
   "execution_count": null,
   "metadata": {},
   "outputs": [],
   "source": []
  },
  {
   "cell_type": "code",
   "execution_count": null,
   "metadata": {},
   "outputs": [],
   "source": []
  },
  {
   "cell_type": "code",
   "execution_count": null,
   "metadata": {},
   "outputs": [],
   "source": []
  },
  {
   "cell_type": "code",
   "execution_count": null,
   "metadata": {},
   "outputs": [],
   "source": []
  },
  {
   "cell_type": "code",
   "execution_count": null,
   "metadata": {},
   "outputs": [],
   "source": []
  },
  {
   "cell_type": "code",
   "execution_count": null,
   "metadata": {},
   "outputs": [],
   "source": []
  },
  {
   "cell_type": "code",
   "execution_count": null,
   "metadata": {},
   "outputs": [],
   "source": []
  },
  {
   "cell_type": "code",
   "execution_count": null,
   "metadata": {},
   "outputs": [],
   "source": []
  },
  {
   "cell_type": "code",
   "execution_count": null,
   "metadata": {},
   "outputs": [],
   "source": []
  },
  {
   "cell_type": "code",
   "execution_count": null,
   "metadata": {},
   "outputs": [],
   "source": []
  },
  {
   "cell_type": "code",
   "execution_count": null,
   "metadata": {},
   "outputs": [],
   "source": []
  },
  {
   "cell_type": "code",
   "execution_count": null,
   "metadata": {},
   "outputs": [],
   "source": []
  }
 ],
 "metadata": {
  "kernelspec": {
   "display_name": "sampling",
   "language": "python",
   "name": "python3"
  },
  "language_info": {
   "codemirror_mode": {
    "name": "ipython",
    "version": 3
   },
   "file_extension": ".py",
   "mimetype": "text/x-python",
   "name": "python",
   "nbconvert_exporter": "python",
   "pygments_lexer": "ipython3",
   "version": "3.8.17"
  },
  "orig_nbformat": 4
 },
 "nbformat": 4,
 "nbformat_minor": 2
}
